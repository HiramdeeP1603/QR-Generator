{
  "nbformat": 4,
  "nbformat_minor": 0,
  "metadata": {
    "colab": {
      "provenance": [],
      "include_colab_link": true
    },
    "kernelspec": {
      "name": "python3",
      "display_name": "Python 3"
    },
    "language_info": {
      "name": "python"
    }
  },
  "cells": [
    {
      "cell_type": "markdown",
      "metadata": {
        "id": "view-in-github",
        "colab_type": "text"
      },
      "source": [
        "<a href=\"https://colab.research.google.com/github/HiramdeeP1603/QR-Generator/blob/main/QRCodeGen.ipynb\" target=\"_parent\"><img src=\"https://colab.research.google.com/assets/colab-badge.svg\" alt=\"Open In Colab\"/></a>"
      ]
    },
    {
      "cell_type": "code",
      "execution_count": 1,
      "metadata": {
        "id": "GV3tYINlbjYx",
        "outputId": "1a610e0b-e429-400f-b9a0-b39b5de34911",
        "colab": {
          "base_uri": "https://localhost:8080/"
        }
      },
      "outputs": [
        {
          "output_type": "stream",
          "name": "stdout",
          "text": [
            "Collecting pyqrcode\n",
            "  Downloading PyQRCode-1.2.1.zip (41 kB)\n",
            "\u001b[2K     \u001b[90m━━━━━━━━━━━━━━━━━━━━━━━━━━━━━━━━━━━━━━━━\u001b[0m \u001b[32m41.9/41.9 kB\u001b[0m \u001b[31m1.4 MB/s\u001b[0m eta \u001b[36m0:00:00\u001b[0m\n",
            "\u001b[?25h  Preparing metadata (setup.py) ... \u001b[?25l\u001b[?25hdone\n",
            "Collecting pypng\n",
            "  Downloading pypng-0.20220715.0-py3-none-any.whl (58 kB)\n",
            "\u001b[2K     \u001b[90m━━━━━━━━━━━━━━━━━━━━━━━━━━━━━━━━━━━━━━━━\u001b[0m \u001b[32m58.1/58.1 kB\u001b[0m \u001b[31m3.3 MB/s\u001b[0m eta \u001b[36m0:00:00\u001b[0m\n",
            "\u001b[?25hBuilding wheels for collected packages: pyqrcode\n",
            "  Building wheel for pyqrcode (setup.py) ... \u001b[?25l\u001b[?25hdone\n",
            "  Created wheel for pyqrcode: filename=PyQRCode-1.2.1-py3-none-any.whl size=36223 sha256=fbb68519740f430673d695ef6e789ae404b30057f4469ecbe8d9311d1391ee11\n",
            "  Stored in directory: /root/.cache/pip/wheels/34/2d/20/082874e49a32cdcc87ebaf99dd0099fb7774ef30f010dfb6f2\n",
            "Successfully built pyqrcode\n",
            "Installing collected packages: pyqrcode, pypng\n",
            "Successfully installed pypng-0.20220715.0 pyqrcode-1.2.1\n"
          ]
        }
      ],
      "source": [
        "!pip install pyqrcode pypng"
      ]
    },
    {
      "cell_type": "code",
      "source": [
        "'''\n",
        "Python Program to Generate QR Code\n",
        "'''\n",
        "\n",
        "# Import the necessary module!\n",
        "import pyqrcode\n",
        "\n",
        "# Define the data:\n",
        "# We need some text that we want to convert as our QR Code.\n",
        "data = input(\"Enter the URL: \")\n",
        "\n",
        "# Create qrcode:\n",
        "qr = pyqrcode.create(data)\n",
        "\n",
        "# Now let's store it in .png format with proper scaling.\n",
        "qr.png(\"QR.png\", scale= 5)"
      ],
      "metadata": {
        "id": "M9SkWl8Mblkl",
        "colab": {
          "base_uri": "https://localhost:8080/"
        },
        "outputId": "f48b098e-0ad3-46d9-9a43-2c73d5c230a9"
      },
      "execution_count": 2,
      "outputs": [
        {
          "name": "stdout",
          "output_type": "stream",
          "text": [
            "Enter the URL: www.google.com\n"
          ]
        }
      ]
    }
  ]
}